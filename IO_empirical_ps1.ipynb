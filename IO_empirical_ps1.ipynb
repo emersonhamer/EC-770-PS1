{
 "cells": [
  {
   "cell_type": "code",
   "execution_count": 1,
   "metadata": {},
   "outputs": [],
   "source": [
    "import pandas as pd\n",
    "import numpy as np"
   ]
  },
  {
   "cell_type": "code",
   "execution_count": 4,
   "metadata": {},
   "outputs": [],
   "source": [
    "household_plan_year = pd.read_csv('household_plan_year777.csv')\n",
    "df1 = pd.read_csv('households777.csv')\n",
    "df2 = pd.read_csv('plans777.csv')"
   ]
  },
  {
   "cell_type": "markdown",
   "metadata": {},
   "source": [
    "a) Estimate the parameters of the utility function in 1(a) as a logit and nested logit using the inversion approach of Berry (1994)\n"
   ]
  },
  {
   "cell_type": "markdown",
   "metadata": {},
   "source": [
    "Import everything and move on to cleaning \n",
    "\n",
    "For logit and nested logit we want market level data - we know this from the notes\n",
    "we have household level we need market level.  for plan and year we want average premium, insurance, medal level, av, and eventually we want to know how many people have a given plan (mnarket level shares)\n",
    "\n",
    "First identify what market level data means in this case and then go from there.  For a rating area and a year we want every plan and charactersistics and shares. "
   ]
  },
  {
   "cell_type": "code",
   "execution_count": null,
   "metadata": {},
   "outputs": [],
   "source": []
  },
  {
   "cell_type": "markdown",
   "metadata": {},
   "source": []
  },
  {
   "cell_type": "markdown",
   "metadata": {},
   "source": [
    "b) Suppose that the coefficients βik of the product characteristics AV and HMO are normally dis-tributed with mean βik and variance σ2k. Estimate the utility and random coefficient parameters using the approach of BLP (1995). Compare your estimates to the logit and nested logit estimates in 2(a)."
   ]
  },
  {
   "cell_type": "markdown",
   "metadata": {},
   "source": [
    "Referring to helpers -> inner loop in michaelas code. Note on slide 52 of demand notes - the thing in brakcets is referred to as mu.  For random draws on taste, first get mu then need to get random coefficients (sigma) for x_jkt. We don't have all of the things to run get Mu yet, but we are writing each peice of it.  Assuming we have x, nu, and sigma, this is how we would get it.  \n",
    "\n",
    "Once we have the mu term then the numerator of s_ijt (probability) on slide 53 is just the exponential of delta plus mu. Then we get the predicted shares, get the sum, we are now moving from probabilities to shares. For every value of Nu we are calculting the term in the brackets on slide 58. Summing over all of our values of nu over i and we are endng up with some s_jt. \n",
    "\n",
    "We want to eventually do a contraction mapping. Define delta_jt1. \n",
    "to get the predicted shares we need an initial guess, delta_0 then we get our delta by running a contraction mapping. \n",
    "Given x_jkt, s_ijt, s_jt"
   ]
  },
  {
   "cell_type": "markdown",
   "metadata": {},
   "source": [
    "calculate psi then want to call psi from inner loop.  Then create this term psi theta prime z which is just a moment.  The moment is z times psi.  z is just the hausman instruents. Once we have the objective function, "
   ]
  },
  {
   "cell_type": "code",
   "execution_count": null,
   "metadata": {},
   "outputs": [],
   "source": []
  },
  {
   "cell_type": "markdown",
   "metadata": {},
   "source": [
    "c) Use either the logit or nested logit to estimate the parameters of the utility function in 1(c). You\n",
    "can also try estimating separate models by age group. Discuss your results."
   ]
  },
  {
   "cell_type": "code",
   "execution_count": null,
   "metadata": {},
   "outputs": [],
   "source": []
  },
  {
   "cell_type": "markdown",
   "metadata": {},
   "source": [
    "d) (Optional) Estimate the utility function as a logit at the household level using maximum likeli-\n",
    "hood. How do the estimated parameters compare to your estimates in 2(a)? (Note: there are packages\n",
    "in R or Stata to estimate a logit at the household level)"
   ]
  },
  {
   "cell_type": "code",
   "execution_count": null,
   "metadata": {},
   "outputs": [],
   "source": []
  },
  {
   "cell_type": "markdown",
   "metadata": {},
   "source": [
    "PROBLEM 3"
   ]
  },
  {
   "cell_type": "markdown",
   "metadata": {},
   "source": [
    "a) Compute the mean own-price elasticity of demand and mean cross-price elasticity of demand using\n",
    "the estimated parameters from each of the 3 models estimated in 2(a). How do the estimated elasticities\n",
    "vary across the 3 models?"
   ]
  },
  {
   "cell_type": "code",
   "execution_count": null,
   "metadata": {},
   "outputs": [],
   "source": []
  },
  {
   "cell_type": "markdown",
   "metadata": {},
   "source": [
    "b) Compute the mean own-price elasticity of demand and mean cross-price elasticity of demand by\n",
    "age group using the estimated parameters in 2(c). Do your estimated elasticities make sense?"
   ]
  },
  {
   "cell_type": "code",
   "execution_count": null,
   "metadata": {},
   "outputs": [],
   "source": []
  },
  {
   "cell_type": "markdown",
   "metadata": {},
   "source": [
    "c) Congress set the penalty for not having insurance to 0 starting in 2019. Compare enrollment\n",
    "before and after the policy change using your estimated model in 2(c). Discuss the effects on total\n",
    "enrollment in the insurance exchange, enrollment across the 4 metal tiers, enrollment by age group, and\n",
    "enrollment by firm. You can assume that insurers do not adjust premiums in response to the policy\n",
    "change.\n"
   ]
  },
  {
   "cell_type": "code",
   "execution_count": null,
   "metadata": {},
   "outputs": [],
   "source": []
  }
 ],
 "metadata": {
  "kernelspec": {
   "display_name": "Python 3",
   "language": "python",
   "name": "python3"
  },
  "language_info": {
   "codemirror_mode": {
    "name": "ipython",
    "version": 3
   },
   "file_extension": ".py",
   "mimetype": "text/x-python",
   "name": "python",
   "nbconvert_exporter": "python",
   "pygments_lexer": "ipython3",
   "version": "3.11.4"
  },
  "orig_nbformat": 4
 },
 "nbformat": 4,
 "nbformat_minor": 2
}
